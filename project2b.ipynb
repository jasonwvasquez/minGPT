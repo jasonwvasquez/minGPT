{
 "cells": [
  {
   "cell_type": "code",
   "execution_count": 1,
   "metadata": {},
   "outputs": [
    {
     "name": "stderr",
     "output_type": "stream",
     "text": [
      "/Users/jasonvasquez/opt/anaconda3/envs/py311/lib/python3.11/site-packages/tqdm/auto.py:21: TqdmWarning: IProgress not found. Please update jupyter and ipywidgets. See https://ipywidgets.readthedocs.io/en/stable/user_install.html\n",
      "  from .autonotebook import tqdm as notebook_tqdm\n"
     ]
    }
   ],
   "source": [
    "import torch\n",
    "from transformers import GPT2Tokenizer, GPT2LMHeadModel\n",
    "from mingpt.model import GPT\n",
    "from mingpt.utils import set_seed\n",
    "from datasets import load_dataset\n",
    "import torch\n",
    "from torch.utils.data import Dataset, DataLoader\n",
    "from datasets import load_dataset\n",
    "import os\n",
    "import numpy as np\n",
    "from matplotlib import pyplot as plt\n",
    "set_seed(3407)"
   ]
  },
  {
   "cell_type": "code",
   "execution_count": 2,
   "metadata": {},
   "outputs": [
    {
     "name": "stderr",
     "output_type": "stream",
     "text": [
      "/Users/jasonvasquez/opt/anaconda3/envs/py311/lib/python3.11/site-packages/datasets/table.py:1421: FutureWarning: promote has been superseded by mode='default'.\n",
      "  table = cls._concat_blocks(blocks, axis=0)\n"
     ]
    }
   ],
   "source": [
    "# Load the dataset\n",
    "dataset = load_dataset(\"togethercomputer/RedPajama-Data-1T-Sample\", 'plain_text', streaming=False, cache_dir='datasets')\n",
    "dataset = dataset['train']"
   ]
  },
  {
   "cell_type": "code",
   "execution_count": 5,
   "metadata": {},
   "outputs": [
    {
     "name": "stdout",
     "output_type": "stream",
     "text": [
      "torch.Size([1, 1023]) torch.Size([1, 1023])\n"
     ]
    }
   ],
   "source": [
    "# Custom dataset class for the Red Pajama dataset\n",
    "class RedPajamaDataset(Dataset):\n",
    "    def __init__(self, data, ul2=False, max_length=1024):\n",
    "        self.data = data\n",
    "        self.tokenizer = GPT2Tokenizer.from_pretrained('gpt2')\n",
    "        self.tokenizer.pad_token_id = 50256\n",
    "        self.new_tokens = [f'<new_id_{i}>' for i in range(400)]\n",
    "        self.tokenizer.add_tokens(self.new_tokens)\n",
    "        self.tokenizer.add_tokens(['[S2S] ', '[NLU] ', '[NLG] '])\n",
    "        self.max_length =  max_length - 1\n",
    "        self.vocab_size = len(self.tokenizer)\n",
    "        self.ul2 = ul2\n",
    "        self.token_dict = {'s': ('S2S', self.sequential_denoising), 'r': ('NLU', self.regular_denoising), 'x': ('NLG', self.extreme_denoising)}\n",
    "\n",
    "    def __len__(self):\n",
    "        return len(self.data)\n",
    "\n",
    "    def __getitem__(self, idx):\n",
    "        text = self.data[idx]['text']\n",
    "\n",
    "        if self.ul2:\n",
    "            # Get the token to prepend and function to use.\n",
    "            begin_id, func = self.token_dict[np.random.choice(['s', 'r', 'x'], size=1, p=[0.5, 0.25, 0.25])[0]]\n",
    "\n",
    "            # Prepend token to string and tokenize\n",
    "            text = begin_id + ' ' + text\n",
    "            ids = self.tokenizer.encode(text, truncation=True, max_length=self.max_length, return_tensors='pt', add_special_tokens=True, padding=False)\n",
    "\n",
    "            # Return the tokens\n",
    "            return func(ids)\n",
    "        else:\n",
    "            # Tokenize the text\n",
    "            tokens = self.tokenizer.encode(text, add_special_tokens=True, max_length=self.max_length, truncation=True, return_tensors='pt', padding=False)\n",
    "            # Split the tokens into chunks of max_length\n",
    "            # Shift the tokens to get targets (excluding the [CLS] token)\n",
    "            target_tokens = tokens[:, 1:].clone()  # Exclude the [CLS] token\n",
    "            tokens = tokens[:, :-1]  # Exclude the last token to match the shifted targets\n",
    "            \n",
    "            return tokens, target_tokens\n",
    "        \n",
    "    def regular_denoising(self, ids, corruption_pct=0.15, span_length=np.arange(2,6)):\n",
    "        chance = (corruption_pct / np.mean(span_length)) * (1 + np.max(span_length) / len(ids))\n",
    "        skip = 0\n",
    "        new_tokens_used = 0\n",
    "        targets = None\n",
    "\n",
    "        for i in range(1, ids.shape[1]):\n",
    "            if skip > 0:\n",
    "                skip -= 1\n",
    "                continue\n",
    "\n",
    "            if np.random.random() < chance:\n",
    "                mask_token = self.tokenizer.convert_tokens_to_ids(self.new_tokens[new_tokens_used])\n",
    "\n",
    "                new_tokens_used += 1\n",
    "\n",
    "                span = np.random.choice(span_length)\n",
    "\n",
    "                #initialize targets if doesn't exist, otherwise update it\n",
    "                if targets is None:\n",
    "                    targets = torch.cat((torch.tensor([[mask_token]]), ids[:, i:i + span].clone()), dim=1)\n",
    "                else:\n",
    "                    targets = torch.cat((targets, torch.tensor([[mask_token]]), ids[:, i:i + span].clone()), dim=1)\n",
    "                ids = torch.cat((ids[:, :i], torch.tensor([[mask_token]]), ids[:, i + span:]), dim=1)  # Mask the corrupted span in ids\n",
    "                \n",
    "                skip = span\n",
    "\n",
    "        ids = torch.cat((ids, torch.tensor([[self.tokenizer.eos_token_id] * (self.max_length - ids.shape[1])])), dim=1)\n",
    "        targets = torch.cat((targets, torch.tensor([[self.tokenizer.pad_token_id] * (self.max_length - targets.shape[1])])), dim=1)\n",
    "\n",
    "        return ids, targets\n",
    "\n",
    "    def sequential_denoising(self, ids):\n",
    "        # Get the length of our input\n",
    "        len_ids = ids.shape[1]\n",
    "\n",
    "\n",
    "        # Normalize the probabilities and get the index to remove\n",
    "        remove_index = np.random.choice(np.arange(len_ids // 2 - 15, len_ids // 2 + 15))\n",
    "\n",
    "        # Get the token we are using for this space\n",
    "        mask_token = self.tokenizer.convert_tokens_to_ids(self.new_tokens[0])\n",
    "\n",
    "        # Get the tokens we are removing\n",
    "        targets = torch.cat((torch.tensor([[mask_token]]), ids[:, remove_index:].clone()), dim=1)\n",
    "\n",
    "        # Replace the tokens with the mask token\n",
    "        ids = ids[:, :remove_index + 1].clone().detach()\n",
    "        ids[:, -1] = mask_token\n",
    "\n",
    "        #mask ids and targets to be desired length\n",
    "        ids = torch.cat((ids, torch.tensor([[self.tokenizer.pad_token_id] * (self.max_length - ids.shape[1])])), dim=1)\n",
    "        targets = torch.cat((targets, torch.tensor([[self.tokenizer.pad_token_id] * (self.max_length - targets.shape[1])])), dim=1)\n",
    "\n",
    "\n",
    "        return ids, targets\n",
    "\n",
    "    def extreme_denoising(self, ids, corruption_pct=0.50, span_length=np.arange(2,6)):\n",
    "        return self.regular_denoising(ids, corruption_pct=corruption_pct, span_length=span_length)\n",
    "\n",
    "# Create an instance of the custom dataset\n",
    "red_pajama_dataset = RedPajamaDataset(dataset, ul2=True)\n",
    "x, y = red_pajama_dataset[0]\n",
    "print(x.shape, y.shape)"
   ]
  },
  {
   "cell_type": "code",
   "execution_count": 6,
   "metadata": {},
   "outputs": [
    {
     "name": "stdout",
     "output_type": "stream",
     "text": [
      "number of parameters: 2.57M\n",
      "number of parameters: 2.57M\n"
     ]
    }
   ],
   "source": [
    "# load in an instance of the model\n",
    "checkpoints = os.listdir('./checkpoints')\n",
    "checkpoints.sort()\n",
    "\n",
    "# create a GPT instance\n",
    "red_pajama_dataset = RedPajamaDataset(dataset, ul2=True)\n",
    "model_config = GPT.get_default_config()\n",
    "model_config.model_type = 'gpt-nano'\n",
    "model_config.vocab_size = red_pajama_dataset.vocab_size\n",
    "model_config.block_size = red_pajama_dataset.max_length\n",
    "model_config.checkpoint = None\n",
    "# model_config.checkpoint = 'checkpoints/' + \\\n",
    "#     checkpoints[-1] if checkpoints else None  # This is a change\n",
    "model_config.ul2 = True\n",
    "model = GPT(model_config)"
   ]
  },
  {
   "cell_type": "code",
   "execution_count": 22,
   "metadata": {},
   "outputs": [
    {
     "name": "stdout",
     "output_type": "stream",
     "text": [
      "number of parameters: 2.57M\n"
     ]
    }
   ],
   "source": [
    "# create a GPT instance\n",
    "red_pajama_dataset2 = RedPajamaDataset(dataset, ul2=False)\n",
    "model_config = GPT.get_default_config()\n",
    "model_config.model_type = 'gpt-nano'\n",
    "model_config.vocab_size = red_pajama_dataset.vocab_size\n",
    "model_config.block_size = red_pajama_dataset.max_length\n",
    "model_config.checkpoint = None\n",
    "# model_config.checkpoint = 'checkpoints/' + \\\n",
    "#     checkpoints[-1] if checkpoints else None  # This is a change\n",
    "model_config.ul2 = False\n",
    "model2 = GPT(model_config)"
   ]
  },
  {
   "cell_type": "code",
   "execution_count": 11,
   "metadata": {},
   "outputs": [
    {
     "name": "stdout",
     "output_type": "stream",
     "text": [
      "running on device cpu\n",
      "running on device cpu\n"
     ]
    }
   ],
   "source": [
    "# create a Trainer object\n",
    "from mingpt.trainer import Trainer\n",
    "\n",
    "iters = 500\n",
    "\n",
    "train_config = Trainer.get_default_config()\n",
    "train_config.learning_rate = 5e-4 # the model we're using is so small that we can go a bit faster\n",
    "train_config.max_iters = iters + model.iter_num if model_config.checkpoint else iters  # This is a change\n",
    "train_config.num_workers = 0\n",
    "train_config.checkpoint_iters = iters / 10     # This is a change\n",
    "train_config.batch_size = 1\n",
    "trainer = Trainer(train_config, model, red_pajama_dataset)"
   ]
  },
  {
   "cell_type": "code",
   "execution_count": 12,
   "metadata": {},
   "outputs": [
    {
     "name": "stdout",
     "output_type": "stream",
     "text": [
      "iter_dt 0.00ms; iter 0: train loss 9.68943\n",
      "iter_dt 901.37ms; iter 100: train loss 6.12530\n",
      "iter_dt 852.68ms; iter 200: train loss 6.09763\n",
      "iter_dt 862.57ms; iter 300: train loss 0.52653\n",
      "iter_dt 963.75ms; iter 400: train loss 1.50218\n"
     ]
    }
   ],
   "source": [
    "def batch_end_callback(trainer):\n",
    "    if trainer.iter_num % 100 == 0:\n",
    "        print(f\"iter_dt {trainer.iter_dt * 1000:.2f}ms; iter {trainer.iter_num}: train loss {trainer.loss.item():.5f}\")\n",
    "trainer.set_callback('on_batch_end', batch_end_callback)\n",
    "\n",
    "trainer.run()"
   ]
  },
  {
   "cell_type": "code",
   "execution_count": 23,
   "metadata": {},
   "outputs": [
    {
     "name": "stdout",
     "output_type": "stream",
     "text": [
      "running on device cpu\n"
     ]
    }
   ],
   "source": [
    "iters = 500\n",
    "\n",
    "train_config = Trainer.get_default_config()\n",
    "train_config.learning_rate = 5e-4 # the model we're using is so small that we can go a bit faster\n",
    "train_config.max_iters = iters + model.iter_num if model_config.checkpoint else iters  # This is a change\n",
    "train_config.num_workers = 0\n",
    "train_config.checkpoint_iters = iters / 10     # This is a change\n",
    "train_config.batch_size = 1\n",
    "trainer2 = Trainer(train_config, model2, red_pajama_dataset2)"
   ]
  },
  {
   "cell_type": "code",
   "execution_count": 24,
   "metadata": {},
   "outputs": [
    {
     "name": "stdout",
     "output_type": "stream",
     "text": [
      "iter_dt 0.00ms; iter 0: train loss 10.84540\n",
      "iter_dt 648.18ms; iter 100: train loss 9.87855\n",
      "iter_dt 110.79ms; iter 200: train loss 7.87452\n",
      "iter_dt 120.28ms; iter 300: train loss 7.75261\n",
      "iter_dt 581.05ms; iter 400: train loss 7.41933\n"
     ]
    }
   ],
   "source": [
    "def batch_end_callback(trainer):\n",
    "    if trainer.iter_num % 100 == 0:\n",
    "        print(f\"iter_dt {trainer.iter_dt * 1000:.2f}ms; iter {trainer.iter_num}: train loss {trainer.loss.item():.5f}\")\n",
    "trainer2.set_callback('on_batch_end', batch_end_callback)\n",
    "\n",
    "trainer2.run()"
   ]
  },
  {
   "cell_type": "code",
   "execution_count": 26,
   "metadata": {},
   "outputs": [
    {
     "data": {
      "image/png": "[encoded data removed]",
      "text/plain": [
       "<Figure size 640x480 with 1 Axes>"
      ]
     },
     "metadata": {},
     "output_type": "display_data"
    }
   ],
   "source": [
    "# Plot the loss\n",
    "losses = trainer.curr_loss\n",
    "losses2 = trainer2.curr_loss\n",
    "x = 10\n",
    "new_losses = np.mean(np.array(losses).reshape(-1, x), axis=1)\n",
    "new_losses2 = np.mean(np.array(losses2).reshape(-1, x), axis=1)\n",
    "plt.plot(np.arange(len(new_losses)), new_losses, label='Ul2')\n",
    "plt.plot(np.arange(len(new_losses2)), new_losses2, label='Regular')\n",
    "plt.title('Training of MinGPT on The Red Pajama Dataset')\n",
    "plt.xlabel('Groups of 10 steps')\n",
    "plt.ylabel('Loss')\n",
    "plt.legend()\n",
    "plt.show()"
   ]
  },
  {
   "cell_type": "code",
   "execution_count": 27,
   "metadata": {},
   "outputs": [],
   "source": [
    "model.eval();"
   ]
  }
 ],
 "metadata": {
  "kernelspec": {
   "display_name": "py311",
   "language": "python",
   "name": "python3"
  },
  "language_info": {
   "codemirror_mode": {
    "name": "ipython",
    "version": 3
   },
   "file_extension": ".py",
   "mimetype": "text/x-python",
   "name": "python",
   "nbconvert_exporter": "python",
   "pygments_lexer": "ipython3",
   "version": "3.11.5"
  }
 },
 "nbformat": 4,
 "nbformat_minor": 2
}
